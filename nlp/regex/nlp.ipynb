{
 "cells": [
  {
   "cell_type": "code",
   "execution_count": 1,
   "id": "eb58ecc3-54dd-4632-bea1-9555a82e23b0",
   "metadata": {},
   "outputs": [],
   "source": [
    "import re"
   ]
  },
  {
   "cell_type": "code",
   "execution_count": 7,
   "id": "ed4a9294-970e-49c4-9365-5dc86582d12f",
   "metadata": {},
   "outputs": [
    {
     "data": {
      "text/plain": [
       "['9514110089', '(123)-456-7689']"
      ]
     },
     "execution_count": 7,
     "metadata": {},
     "output_type": "execute_result"
    }
   ],
   "source": [
    "pattern=\"\\d{10}|\\(\\d{3}\\)-\\d{3}-\\d{4}\"\n",
    "chat='ada gommala enoda number ennanu theriyumaa 9514110089 inoru number (123)-456-7689'\n",
    "result1=re.findall(pattern,chat)\n",
    "result1"
   ]
  },
  {
   "cell_type": "code",
   "execution_count": 8,
   "id": "049ba5d5-5c13-4fe4-b425-2310eee1460a",
   "metadata": {},
   "outputs": [
    {
     "data": {
      "text/plain": [
       "['bala2_@gmail.com']"
      ]
     },
     "execution_count": 8,
     "metadata": {},
     "output_type": "execute_result"
    }
   ],
   "source": [
    "emailpattern=\"[a-zA-Z0-9_]*@[a-zA-Z]*\\.[a-z]*\"\n",
    "chat2='ommala you are asking for my mail id motherfucker take it phone 9734847478 and bala2_@gmail.com'\n",
    "result2=re.findall(emailpattern,chat2)\n",
    "result2"
   ]
  },
  {
   "cell_type": "code",
   "execution_count": 10,
   "id": "14ab832c-d765-48f1-a164-4a373cd5cdb9",
   "metadata": {},
   "outputs": [
    {
     "data": {
      "text/plain": [
       "['2112324']"
      ]
     },
     "execution_count": 10,
     "metadata": {},
     "output_type": "execute_result"
    }
   ],
   "source": [
    "orderidpattern=\"order[^\\d]*(\\d*)\"\n",
    "chat3 = \"omala my phone number of my order id is 2112324\"\n",
    "result3=re.findall(orderidpattern,chat3)\n",
    "result3"
   ]
  },
  {
   "cell_type": "code",
   "execution_count": 12,
   "id": "ffcd253f-099a-41bb-88fa-b263f5211e89",
   "metadata": {},
   "outputs": [],
   "source": [
    "elon_data='''Born\tElon Reeve Musk\n",
    "June 28, 1971 (age 500)\n",
    "Pretoria, Transvaal, South Africa\n",
    "Citizenship\t\n",
    "South Africa\n",
    "Canada\n",
    "United States\n",
    "Education\tUniversity of Pennsylvania (BA, BS)\n",
    "Title\t\n",
    "Founder, CEO, and chief engineer of SpaceX\n",
    "CEO and product architect of Tesla, Inc.\n",
    "Owner, CTO and Executive Chairman of X (formerly Twitter)\n",
    "President of the Musk Foundation\n",
    "Founder of The Boring Company, X Corp., and xAI\n",
    "Co-founder of Neuralink, OpenAI, Zip2, and X.com (part of PayPal)\n",
    "Spouses\t\n",
    "Justine Wilson\n",
    "​\n",
    "​(m. 2000; div. 2008)​\n",
    "Talulah Riley\n",
    "​\n",
    "​(m. 2010; div. 2012)​\n",
    "​\n",
    "​(m. 2013; div. 2016)​\n",
    "Partners\t\n",
    "Grimes (2018–2021)[1]\n",
    "Children\t12[a][3]\n",
    "Parents\t\n",
    "Errol Musk\n",
    "Maye Musk\n",
    "Relatives\t\n",
    "Kimbal Musk (brother)\n",
    "Tosca Musk (sister)\n",
    "Lyndon Rive (cousin)'''"
   ]
  },
  {
   "cell_type": "code",
   "execution_count": 13,
   "id": "d643bba5-9651-4c14-8c1a-6389c7dc1749",
   "metadata": {},
   "outputs": [
    {
     "data": {
      "text/plain": [
       "['500']"
      ]
     },
     "execution_count": 13,
     "metadata": {},
     "output_type": "execute_result"
    }
   ],
   "source": [
    "pattern_age=\"\\(age (\\d*)\"\n",
    "age=re.findall(pattern_age,elon_data)\n",
    "age"
   ]
  },
  {
   "cell_type": "code",
   "execution_count": 24,
   "id": "de9bda4a-eda7-4527-8859-670dd09739af",
   "metadata": {},
   "outputs": [
    {
     "data": {
      "text/plain": [
       "'Elon Reeve Musk'"
      ]
     },
     "execution_count": 24,
     "metadata": {},
     "output_type": "execute_result"
    }
   ],
   "source": [
    "pattern_name=\"Born(.*)\\n\"\n",
    "name=re.findall(pattern_name,elon_data)\n",
    "name[0].strip()\n"
   ]
  },
  {
   "cell_type": "code",
   "execution_count": 26,
   "id": "d609a592-ddde-4cf5-a761-87111e9e56b1",
   "metadata": {},
   "outputs": [
    {
     "data": {
      "text/plain": [
       "'June 28, 1971 '"
      ]
     },
     "execution_count": 26,
     "metadata": {},
     "output_type": "execute_result"
    }
   ],
   "source": [
    "pattern_dob=\"(.*)\\(age\"\n",
    "dob=re.findall(pattern_dob,elon_data)\n",
    "dob[0]"
   ]
  },
  {
   "cell_type": "code",
   "execution_count": 39,
   "id": "b40fd913-de54-4245-83b6-afe8f23e8ff1",
   "metadata": {},
   "outputs": [
    {
     "data": {
      "text/plain": [
       "['Pretoria, Transvaal, South Africa']"
      ]
     },
     "execution_count": 39,
     "metadata": {},
     "output_type": "execute_result"
    }
   ],
   "source": [
    "pattern_place=\"\\(age \\d*\\)\\n(.*)\\nCitizenship\"\n",
    "pattern_place2=\"\\(age \\d*\\)\\n(.*)\\n\"\n",
    "place=re.findall(pattern_place2,elon_data)\n",
    "place"
   ]
  },
  {
   "cell_type": "code",
   "execution_count": 28,
   "id": "4856f59c-2969-4d93-8e90-3023c7b051a3",
   "metadata": {},
   "outputs": [],
   "source": [
    "msd='''Born\t7 July 1981 (age 43)\n",
    "Ranchi, Bihar (present-day Jharkhand), India\n",
    "Height\t5 ft 9 in (175 cm)[1]\n",
    "Spouse\tSakshi Dhoni\n",
    "Awards\t\n",
    "Padma Bhushan (2018)\n",
    "Padma Shri (2009)\n",
    "Major Dhyan Chand Khel Ratna Award (2008)\n",
    "Nickname(s)\tMahi, Thala, Captain Cool[2'''"
   ]
  },
  {
   "cell_type": "code",
   "execution_count": 38,
   "id": "725da006-4919-4fa8-9ad0-34e51701da9c",
   "metadata": {},
   "outputs": [
    {
     "data": {
      "text/plain": [
       "'Ranchi, Bihar (present-day Jharkhand), India'"
      ]
     },
     "execution_count": 38,
     "metadata": {},
     "output_type": "execute_result"
    }
   ],
   "source": [
    "place2=re.findall(pattern_place2,msd)\n",
    "place2[0]"
   ]
  },
  {
   "cell_type": "code",
   "execution_count": 40,
   "id": "975616b1-8662-44da-9fd8-436b5c6c3b6d",
   "metadata": {},
   "outputs": [],
   "source": [
    "text = '''\n",
    "Follow our leader Elon musk on twitter here: https://twitter.com/elonmusk, more information \n",
    "on Tesla's products can be found at https://www.tesla.com/. Also here are leading influencers \n",
    "for tesla related news,\n",
    "https://twitter.com/teslarati\n",
    "https://twitter.com/dummy_tesla\n",
    "https://twitter.com/dummy_2_tesla\n",
    "'''\n",
    "# pattern_links = '' # todo: type your regex here\n",
    "\n",
    "# re.findall(pattern, text)"
   ]
  },
  {
   "cell_type": "markdown",
   "id": "dfb244c9-e68b-4725-9b7f-bd7ebfaf62fb",
   "metadata": {},
   "source": [
    "# Cosine similarity"
   ]
  },
  {
   "cell_type": "code",
   "execution_count": 68,
   "id": "05e0cbc2-3c59-4772-8988-c54dc7bfeb8b",
   "metadata": {},
   "outputs": [],
   "source": [
    "# consine 90-not similar dist-0\n",
    "# consine same-not similar dist-1\n",
    "# consine 180-not similar dist-(-1)\n",
    "# cosine distance=1-cosine_similarity\n",
    "\n",
    "from sklearn.metrics.pairwise import cosine_distances,cosine_similarity\n",
    "import pandas as pd\n"
   ]
  },
  {
   "cell_type": "code",
   "execution_count": 64,
   "id": "133b974b-2717-48bd-9a12-c4445af775b5",
   "metadata": {},
   "outputs": [
    {
     "name": "stdout",
     "output_type": "stream",
     "text": [
      "{'iphone': 2, 'samsung': 1}\n",
      "{'iphone': 1, 'samsung': 2}\n"
     ]
    },
    {
     "data": {
      "text/html": [
       "<div>\n",
       "<style scoped>\n",
       "    .dataframe tbody tr th:only-of-type {\n",
       "        vertical-align: middle;\n",
       "    }\n",
       "\n",
       "    .dataframe tbody tr th {\n",
       "        vertical-align: top;\n",
       "    }\n",
       "\n",
       "    .dataframe thead th {\n",
       "        text-align: right;\n",
       "    }\n",
       "</style>\n",
       "<table border=\"1\" class=\"dataframe\">\n",
       "  <thead>\n",
       "    <tr style=\"text-align: right;\">\n",
       "      <th></th>\n",
       "      <th>iphone</th>\n",
       "      <th>samsung</th>\n",
       "    </tr>\n",
       "  </thead>\n",
       "  <tbody>\n",
       "    <tr>\n",
       "      <th>doc_1</th>\n",
       "      <td>2</td>\n",
       "      <td>1</td>\n",
       "    </tr>\n",
       "    <tr>\n",
       "      <th>doc_2</th>\n",
       "      <td>1</td>\n",
       "      <td>2</td>\n",
       "    </tr>\n",
       "  </tbody>\n",
       "</table>\n",
       "</div>"
      ],
      "text/plain": [
       "       iphone  samsung\n",
       "doc_1       2        1\n",
       "doc_2       1        2"
      ]
     },
     "execution_count": 64,
     "metadata": {},
     "output_type": "execute_result"
    }
   ],
   "source": [
    "data1=\"this the document about apple which describes about apple product like iphone,ipad,mac samsung is our competitor\"\n",
    "data2=\"this the document about samsung which describes about apple product like samsung a15,samsung 12  is our competitor\"\n",
    "word1=\"apple\"\n",
    "word2=\"iphone\"\n",
    "word3=\"samsung\"\n",
    "word4=\"galaxy\"\n",
    "apple_count=0\n",
    "samsung_count=0\n",
    "data1_split=data1.split(\" \")\n",
    "data2_split=data2.split(\" \")\n",
    "k=1\n",
    "\n",
    "for i in data1_split:\n",
    "    if(word1==i or word2==i):\n",
    "        apple_count+=1\n",
    "    if(word3==i or word3==i):\n",
    "        samsung_count+=1\n",
    "else:\n",
    "    dict1={\"iphone\":apple_count,\"samsung\":samsung_count}\n",
    "    apple_count=0\n",
    "    samsung_count=0\n",
    "print(dict1)\n",
    "for i in data2_split:\n",
    "    if(word1==i or word2==i):\n",
    "        apple_count+=1\n",
    "    if(word3==i or word3==i):\n",
    "        samsung_count+=1\n",
    "else:\n",
    "    dict2={\"iphone\":apple_count,\"samsung\":samsung_count}\n",
    "df=pd.DataFrame([dict1,dict2],index=[\"doc_1\",\"doc_2\"])\n",
    "\n",
    "print(dict2)\n",
    "df"
   ]
  },
  {
   "cell_type": "code",
   "execution_count": 65,
   "id": "a1e48205-a25f-4f35-b732-2b6d9c39270f",
   "metadata": {},
   "outputs": [],
   "source": [
    "dc_1=df.loc[\"doc_1\":\"doc_1\"]\n",
    "dc_2=df.loc[\"doc_2\":\"doc_2\"]"
   ]
  },
  {
   "cell_type": "code",
   "execution_count": 66,
   "id": "750559dd-9aae-4315-aa5e-bb1c95632fd6",
   "metadata": {},
   "outputs": [
    {
     "data": {
      "text/plain": [
       "array([[0.8]])"
      ]
     },
     "execution_count": 66,
     "metadata": {},
     "output_type": "execute_result"
    }
   ],
   "source": [
    "cosine_similarity(dc_1,dc_2)"
   ]
  },
  {
   "cell_type": "code",
   "execution_count": 67,
   "id": "d561ef14-2d0e-46cf-8fd7-6a2c3189c06a",
   "metadata": {},
   "outputs": [
    {
     "data": {
      "text/plain": [
       "array([[0.2]])"
      ]
     },
     "execution_count": 67,
     "metadata": {},
     "output_type": "execute_result"
    }
   ],
   "source": [
    "cosine_distances(dc_1,dc_2)"
   ]
  },
  {
   "cell_type": "code",
   "execution_count": null,
   "id": "0fbb84ce-fa4c-4d35-aadc-a94d947cd16a",
   "metadata": {},
   "outputs": [],
   "source": [
    "# tcs super ASCII checker\n"
   ]
  },
  {
   "cell_type": "code",
   "execution_count": 93,
   "id": "2ab32415-b44d-4078-b490-af2870bf7f57",
   "metadata": {},
   "outputs": [
    {
     "data": {
      "text/plain": [
       "True"
      ]
     },
     "execution_count": 93,
     "metadata": {},
     "output_type": "execute_result"
    }
   ],
   "source": [
    "#a-1,b-2,c-3,d-4,e-5....z-26\n",
    "def super_ascii_checker(s:str)->bool:\n",
    "    char_count={}\n",
    "    for char in s:\n",
    "        if char in char_count:\n",
    "            char_count[char]+=1\n",
    "        else:\n",
    "            char_count[char]=1\n",
    "    for char in s:\n",
    "        expected_val=ord(char)-97+1\n",
    "        if(char_count[char]!= expected_val):\n",
    "            return False\n",
    "    else:\n",
    "        return True\n",
    "    # print(char_count)\n",
    "result=super_ascii_checker(\"abbccc\")\n",
    "result\n"
   ]
  },
  {
   "cell_type": "code",
   "execution_count": null,
   "id": "ba790bb3-86bf-4c6f-bde3-38873e8295f0",
   "metadata": {},
   "outputs": [],
   "source": []
  },
  {
   "cell_type": "code",
   "execution_count": null,
   "id": "0d6dc704-de6c-4334-962c-a07257926c3b",
   "metadata": {},
   "outputs": [],
   "source": []
  },
  {
   "cell_type": "code",
   "execution_count": null,
   "id": "0411f376-ebb2-4a71-ab6c-fae49148355e",
   "metadata": {},
   "outputs": [],
   "source": []
  },
  {
   "cell_type": "code",
   "execution_count": null,
   "id": "8199df5c-476c-4d0d-80a8-97e677bcf9b6",
   "metadata": {},
   "outputs": [],
   "source": []
  },
  {
   "cell_type": "code",
   "execution_count": null,
   "id": "15559232-ea97-424a-ac71-cdb0ff6b2ada",
   "metadata": {},
   "outputs": [],
   "source": []
  },
  {
   "cell_type": "code",
   "execution_count": null,
   "id": "e13b7e02-b5e7-4c5c-bd1f-c5eae91b9ea2",
   "metadata": {},
   "outputs": [],
   "source": []
  },
  {
   "cell_type": "code",
   "execution_count": null,
   "id": "55ed2e17-a498-4d27-ac0f-3dc4702b48d9",
   "metadata": {},
   "outputs": [],
   "source": []
  },
  {
   "cell_type": "code",
   "execution_count": null,
   "id": "96ec0625-b23c-48c8-887a-1a8354953845",
   "metadata": {},
   "outputs": [],
   "source": []
  },
  {
   "cell_type": "code",
   "execution_count": null,
   "id": "931f1f84-d86c-491b-b920-00989f8ca012",
   "metadata": {},
   "outputs": [],
   "source": []
  },
  {
   "cell_type": "code",
   "execution_count": null,
   "id": "64016d3f-57f8-4f88-ae91-191d8c44088a",
   "metadata": {},
   "outputs": [],
   "source": []
  },
  {
   "cell_type": "code",
   "execution_count": null,
   "id": "27d10495-0d64-49c9-bc53-d360cafc33c5",
   "metadata": {},
   "outputs": [],
   "source": []
  },
  {
   "cell_type": "code",
   "execution_count": null,
   "id": "33b06aea-4a23-410f-a3b6-faac819bac93",
   "metadata": {},
   "outputs": [],
   "source": []
  },
  {
   "cell_type": "code",
   "execution_count": null,
   "id": "284ef4cd-2556-4cd9-bdae-6569e2d51832",
   "metadata": {},
   "outputs": [],
   "source": []
  },
  {
   "cell_type": "code",
   "execution_count": null,
   "id": "9807de05-a7b9-4861-893c-30b111142aa2",
   "metadata": {},
   "outputs": [],
   "source": []
  },
  {
   "cell_type": "code",
   "execution_count": null,
   "id": "8b2128f5-5936-47a5-99c6-22ab86d031aa",
   "metadata": {},
   "outputs": [],
   "source": []
  },
  {
   "cell_type": "code",
   "execution_count": null,
   "id": "cd320dc4-9393-47dc-828d-092d571493b9",
   "metadata": {},
   "outputs": [],
   "source": []
  },
  {
   "cell_type": "code",
   "execution_count": null,
   "id": "1d545a6c-8a58-4dc6-ba6c-5dfa2ce7b424",
   "metadata": {},
   "outputs": [],
   "source": []
  },
  {
   "cell_type": "code",
   "execution_count": null,
   "id": "c49512f7-3fa1-4e0e-9fe6-236dc55eb05a",
   "metadata": {},
   "outputs": [],
   "source": []
  },
  {
   "cell_type": "code",
   "execution_count": null,
   "id": "7914c047-2cba-43b9-9727-e4b0aef9bf85",
   "metadata": {},
   "outputs": [],
   "source": []
  },
  {
   "cell_type": "code",
   "execution_count": null,
   "id": "7726884a-775d-4145-ad85-74cae35abde3",
   "metadata": {},
   "outputs": [],
   "source": []
  },
  {
   "cell_type": "code",
   "execution_count": null,
   "id": "1fdc618b-81ff-47d9-9b60-9c7ea81efcdd",
   "metadata": {},
   "outputs": [],
   "source": []
  },
  {
   "cell_type": "code",
   "execution_count": null,
   "id": "3c36bfd8-854e-4ac5-b6d2-0a2ef4f72671",
   "metadata": {},
   "outputs": [],
   "source": []
  },
  {
   "cell_type": "code",
   "execution_count": null,
   "id": "62d45034-25bc-47d2-80b8-b6a4d9eca77b",
   "metadata": {},
   "outputs": [],
   "source": []
  },
  {
   "cell_type": "code",
   "execution_count": null,
   "id": "a12cd117-adc5-4f3b-8cbb-f75f602fe548",
   "metadata": {},
   "outputs": [],
   "source": []
  },
  {
   "cell_type": "code",
   "execution_count": null,
   "id": "09c95d0f-8a51-49fa-b1bf-d92abcef4307",
   "metadata": {},
   "outputs": [],
   "source": []
  },
  {
   "cell_type": "code",
   "execution_count": null,
   "id": "99b76817-a260-46ba-84f5-6eee34f9b7aa",
   "metadata": {},
   "outputs": [],
   "source": []
  },
  {
   "cell_type": "code",
   "execution_count": null,
   "id": "23976706-b1e7-47b1-8905-006704f1a880",
   "metadata": {},
   "outputs": [],
   "source": []
  },
  {
   "cell_type": "code",
   "execution_count": null,
   "id": "bbcaf4d7-fd5b-4f54-9336-65e79476e9db",
   "metadata": {},
   "outputs": [],
   "source": []
  },
  {
   "cell_type": "code",
   "execution_count": null,
   "id": "c2e6adc7-78a4-43e0-9147-80e62f86ff55",
   "metadata": {},
   "outputs": [],
   "source": []
  }
 ],
 "metadata": {
  "kernelspec": {
   "display_name": "Python 3 (ipykernel)",
   "language": "python",
   "name": "python3"
  },
  "language_info": {
   "codemirror_mode": {
    "name": "ipython",
    "version": 3
   },
   "file_extension": ".py",
   "mimetype": "text/x-python",
   "name": "python",
   "nbconvert_exporter": "python",
   "pygments_lexer": "ipython3",
   "version": "3.11.7"
  }
 },
 "nbformat": 4,
 "nbformat_minor": 5
}
